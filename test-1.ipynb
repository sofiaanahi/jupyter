{
 "cells": [
  {
   "cell_type": "markdown",
   "metadata": {},
   "source": [
    "# Ejercicio 2 \n",
    "\n",
    "- Se está trabajando en un programa que necesita capitalizar palabras, pero el desafío es\n",
    "que solo la primera letra debe ser convertida a mayúscula, manteniendo las demás\n",
    "letras sin cambios.\n",
    "\n"
   ]
  },
  {
   "cell_type": "markdown",
   "metadata": {},
   "source": [
    "## solucion\n",
    "\n",
    "- crear una funcion que al ingresar una palabra esta se imprima con la primera letra en mayuscula"
   ]
  },
  {
   "cell_type": "code",
   "execution_count": 6,
   "metadata": {},
   "outputs": [
    {
     "name": "stdout",
     "output_type": "stream",
     "text": [
      "Python\n"
     ]
    }
   ],
   "source": [
    "def capitalizar_palabras(palabra):\n",
    "    palabra_con_mayuscula = (palabra.capitalize()) \n",
    "    print( palabra_con_mayuscula)\n",
    "\n",
    "capitalizar_palabras('python')\n"
   ]
  },
  {
   "cell_type": "markdown",
   "metadata": {},
   "source": [
    "# Ejercicio 3\n",
    "\n",
    "- Se proporcionará una lista de productos y la tarea es realizar operaciones básicas\n",
    "sobre estos productos."
   ]
  },
  {
   "cell_type": "markdown",
   "metadata": {},
   "source": [
    "## solucion \n",
    "\n",
    "- instalar pandas y matplotlib \n",
    "- Se brindo una lista de diccionarios de productos \n",
    " "
   ]
  },
  {
   "cell_type": "markdown",
   "metadata": {},
   "source": [
    "\n",
    "Paso 1: Importar pandas y matplotlib \n"
   ]
  },
  {
   "cell_type": "code",
   "execution_count": 10,
   "metadata": {},
   "outputs": [],
   "source": [
    "import pandas as pd \n",
    "import matplotlib.pyplot as plt "
   ]
  },
  {
   "cell_type": "markdown",
   "metadata": {},
   "source": [
    "Paso 2: Utilizar la lista de diccionarios de productos "
   ]
  },
  {
   "cell_type": "code",
   "execution_count": 9,
   "metadata": {},
   "outputs": [],
   "source": [
    "productos = [\n",
    "    {\"nombre\": \"Camiseta\", \"precio\": 20, \"cantidad_disponible\":\n",
    "    100},\n",
    "    {\"nombre\": \"Pantalón\", \"precio\": 30, \"cantidad_disponible\": 80},\n",
    "    {\"nombre\": \"Zapatos\", \"precio\": 50, \"cantidad_disponible\": 50},\n",
    "    {\"nombre\": \"Reloj\", \"precio\": 100, \"cantidad_disponible\": 30},\n",
    "    {\"nombre\": \"Gorra\", \"precio\": 15, \"cantidad_disponible\": 120},\n",
    "    {\"nombre\": \"Bufanda\", \"precio\": 25, \"cantidad_disponible\": 60},\n",
    "    {\"nombre\": \"Sudadera\", \"precio\": 40, \"cantidad_disponible\": 70},\n",
    "    {\"nombre\": \"Bolsa\", \"precio\": 35, \"cantidad_disponible\": 90},\n",
    "    {\"nombre\": \"Chaqueta\", \"precio\": 80, \"cantidad_disponible\": 40},\n",
    "    {\"nombre\": \"Gafas de sol\", \"precio\": 45, \"cantidad_disponible\":\n",
    "    25},\n",
    "    {\"nombre\": \"Calcetines\", \"precio\": 10, \"cantidad_disponible\":\n",
    "    150},\n",
    "    {\"nombre\": \"Sombrero\", \"precio\": 20, \"cantidad_disponible\": 55},\n",
    "    {\"nombre\": \"Pulsera\", \"precio\": 5, \"cantidad_disponible\": 200},\n",
    "    {\"nombre\": \"Pendientes\", \"precio\": 15, \"cantidad_disponible\":\n",
    "    180},\n",
    "    {\"nombre\": \"Cinturón\", \"precio\": 20, \"cantidad_disponible\":\n",
    "    100},\n",
    "    {\"nombre\": \"Vestido\", \"precio\": 60, \"cantidad_disponible\": 35},\n",
    "    {\"nombre\": \"Corbata\", \"precio\": 25, \"cantidad_disponible\": 75},\n",
    "    {\"nombre\": \"Bolso\", \"precio\": 70, \"cantidad_disponible\": 45},\n",
    "    {\"nombre\": \"Paraguas\", \"precio\": 30, \"cantidad_disponible\": 65},\n",
    "    {\"nombre\": \"Collar\", \"precio\": 40, \"cantidad_disponible\": 85},\n",
    "    ]"
   ]
  },
  {
   "cell_type": "markdown",
   "metadata": {},
   "source": [
    "Paso 3: Convierte  la lista  en un DataFrame de pandas llamado \"df\", con columnas 'nombre', 'precio', 'cantidad_disponible'.\n",
    "Imprime el 'df'\n"
   ]
  },
  {
   "cell_type": "code",
   "execution_count": null,
   "metadata": {},
   "outputs": [],
   "source": [
    "df = pd.DataFrame(productos, columns=['nombre', 'precio', 'cantidad_disponible'])\n",
    "print(df)"
   ]
  },
  {
   "cell_type": "markdown",
   "metadata": {},
   "source": [
    "Paso 4: Define una funcion llama 'valor_total_inventario' toma dos parametros: precio y cantidad_total_disponible. Calcula el inventario multiplicando estos dos valores y lo imprime. Luego, calcula el total sumando el valor_total_inventario con cantidad_total_disponible y lo imprime.\n",
    "\n",
    "luego se llama a la funcion valor_total_inventario y se le pasa como argumento la suma total de los precios y la suma total de las cantidades disponibles de los productos en el DataFrame 'df'"
   ]
  },
  {
   "cell_type": "code",
   "execution_count": null,
   "metadata": {},
   "outputs": [],
   "source": [
    "def valor_total_inventario(total_precio, total_cantidad_disponible):\n",
    "\n",
    "    valor_total = total_precio * total_cantidad_disponible\n",
    "    print('total inventario: ' ,valor_total)\n",
    "    \n",
    "    total = valor_total + total_cantidad_disponible\n",
    "    print('el valor total del inventario mas total de cada producto: ',total)\n",
    "   \n",
    "valor_total_inventario((df['precio'].sum()) , (df['cantidad_disponible'].sum()))"
   ]
  },
  {
   "cell_type": "markdown",
   "metadata": {},
   "source": [
    "Paso 5: Simular algunas ventas y actualizar la cantidad disponible de productos vendidos.\n",
    "En este caso, lo que hice fue filtrar los productos cuya cantidad disponible sea menor que 56 y los asigne a 'cantidad_disponible_nuevo'"
   ]
  },
  {
   "cell_type": "code",
   "execution_count": null,
   "metadata": {},
   "outputs": [],
   "source": [
    "\n",
    "cantidad_disponible_nuevo = df[df['cantidad_disponible'] < 56]\n",
    "print(cantidad_disponible_nuevo)"
   ]
  },
  {
   "cell_type": "markdown",
   "metadata": {},
   "source": [
    "Paso 6: Renombre la columna 'cantidad_disponible' del DataFrame 'df' a 'cantidad_disponible_nuevo'"
   ]
  },
  {
   "cell_type": "code",
   "execution_count": null,
   "metadata": {},
   "outputs": [],
   "source": [
    "df.rename(columns={'cantidad_disponible' : 'cantidad_disponible_nuevo'}, inplace=True)\n"
   ]
  },
  {
   "cell_type": "markdown",
   "metadata": {},
   "source": [
    "# Ejercicio 4 \n",
    "\n",
    "- Basándote en el DataFrame creado, realiza un análisis de gráficos para visualizar la\n",
    "cantidad disponible de productos. Utiliza un gráfico de barras donde el eje x\n",
    "represente los nombres de los productos y el eje y represente la cantidad disponible de\n",
    "cada producto.\n"
   ]
  },
  {
   "cell_type": "markdown",
   "metadata": {},
   "source": [
    "## Solucion"
   ]
  },
  {
   "cell_type": "markdown",
   "metadata": {},
   "source": [
    "Paso 1: Realizo un grafico de linea utilizando matplotlib, donde el eje x representa los nombres de los productos y el eje y representa la cantidad disponible de los productos despues de la actualizacion.\n",
    "luego, muestra el grafico.\n"
   ]
  },
  {
   "cell_type": "code",
   "execution_count": null,
   "metadata": {},
   "outputs": [],
   "source": [
    "plt.plot(df[\"nombre\"], df[\"cantidad_disponible_nuevo\"])\n",
    "plt.xlabel(\"nombre\")\n",
    "plt.ylabel(\"cantidad_disponible_nuevo\")\n",
    "plt.title(\"grafico\")\n",
    "plt.legend()\n",
    "\n",
    "plt.show()"
   ]
  }
 ],
 "metadata": {
  "kernelspec": {
   "display_name": "venv",
   "language": "python",
   "name": "python3"
  },
  "language_info": {
   "codemirror_mode": {
    "name": "ipython",
    "version": 3
   },
   "file_extension": ".py",
   "mimetype": "text/x-python",
   "name": "python",
   "nbconvert_exporter": "python",
   "pygments_lexer": "ipython3",
   "version": "3.12.2"
  }
 },
 "nbformat": 4,
 "nbformat_minor": 2
}
